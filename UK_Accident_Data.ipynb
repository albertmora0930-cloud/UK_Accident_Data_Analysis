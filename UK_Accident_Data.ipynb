{
 "cells": [
  {
   "cell_type": "code",
   "execution_count": 1,
   "id": "8dcfc263-5e1a-43c8-b50a-6e21dffb7740",
   "metadata": {},
   "outputs": [],
   "source": [
    "import pandas as pd "
   ]
  },
  {
   "cell_type": "code",
   "execution_count": 2,
   "id": "b032f4f3-977b-4f5e-80f5-09f91e898871",
   "metadata": {},
   "outputs": [],
   "source": [
    "import numpy as np"
   ]
  },
  {
   "cell_type": "code",
   "execution_count": 3,
   "id": "69a44a83-29a5-4fb0-9774-72cc42ac3e3b",
   "metadata": {},
   "outputs": [],
   "source": [
    "import warnings"
   ]
  },
  {
   "cell_type": "code",
   "execution_count": 4,
   "id": "1684cda6-2682-4235-b3d8-f314e0970fa3",
   "metadata": {},
   "outputs": [],
   "source": [
    "warnings.filterwarnings('ignore')"
   ]
  },
  {
   "cell_type": "code",
   "execution_count": 5,
   "id": "c947f300-b8e3-4f03-9bc7-4fc568871bd7",
   "metadata": {},
   "outputs": [],
   "source": [
    "road = pd.read_csv('uk_road_accident.csv')"
   ]
  },
  {
   "cell_type": "code",
   "execution_count": 6,
   "id": "f3b8b823-eebc-49c4-9bc4-c9a89ea3ee70",
   "metadata": {},
   "outputs": [
    {
     "data": {
      "text/html": [
       "<div>\n",
       "<style scoped>\n",
       "    .dataframe tbody tr th:only-of-type {\n",
       "        vertical-align: middle;\n",
       "    }\n",
       "\n",
       "    .dataframe tbody tr th {\n",
       "        vertical-align: top;\n",
       "    }\n",
       "\n",
       "    .dataframe thead th {\n",
       "        text-align: right;\n",
       "    }\n",
       "</style>\n",
       "<table border=\"1\" class=\"dataframe\">\n",
       "  <thead>\n",
       "    <tr style=\"text-align: right;\">\n",
       "      <th></th>\n",
       "      <th>Index</th>\n",
       "      <th>Accident_Severity</th>\n",
       "      <th>Accident Date</th>\n",
       "      <th>Latitude</th>\n",
       "      <th>Light_Conditions</th>\n",
       "      <th>District Area</th>\n",
       "      <th>Longitude</th>\n",
       "      <th>Number_of_Casualties</th>\n",
       "      <th>Number_of_Vehicles</th>\n",
       "      <th>Road_Surface_Conditions</th>\n",
       "      <th>Road_Type</th>\n",
       "      <th>Urban_or_Rural_Area</th>\n",
       "      <th>Weather_Conditions</th>\n",
       "      <th>Vehicle_Type</th>\n",
       "    </tr>\n",
       "  </thead>\n",
       "  <tbody>\n",
       "    <tr>\n",
       "      <th>0</th>\n",
       "      <td>200701BS64157</td>\n",
       "      <td>Serious</td>\n",
       "      <td>5/6/2019</td>\n",
       "      <td>51.506187</td>\n",
       "      <td>Darkness - lights lit</td>\n",
       "      <td>Kensington and Chelsea</td>\n",
       "      <td>-0.209082</td>\n",
       "      <td>1</td>\n",
       "      <td>2</td>\n",
       "      <td>Dry</td>\n",
       "      <td>Single carriageway</td>\n",
       "      <td>Urban</td>\n",
       "      <td>Fine no high winds</td>\n",
       "      <td>Car</td>\n",
       "    </tr>\n",
       "    <tr>\n",
       "      <th>1</th>\n",
       "      <td>200701BS65737</td>\n",
       "      <td>Serious</td>\n",
       "      <td>2/7/2019</td>\n",
       "      <td>51.495029</td>\n",
       "      <td>Daylight</td>\n",
       "      <td>Kensington and Chelsea</td>\n",
       "      <td>-0.173647</td>\n",
       "      <td>1</td>\n",
       "      <td>2</td>\n",
       "      <td>Wet or damp</td>\n",
       "      <td>Single carriageway</td>\n",
       "      <td>Urban</td>\n",
       "      <td>Raining no high winds</td>\n",
       "      <td>Car</td>\n",
       "    </tr>\n",
       "    <tr>\n",
       "      <th>2</th>\n",
       "      <td>200701BS66127</td>\n",
       "      <td>Serious</td>\n",
       "      <td>26-08-2019</td>\n",
       "      <td>51.517715</td>\n",
       "      <td>Darkness - lighting unknown</td>\n",
       "      <td>Kensington and Chelsea</td>\n",
       "      <td>-0.210215</td>\n",
       "      <td>1</td>\n",
       "      <td>3</td>\n",
       "      <td>Dry</td>\n",
       "      <td>NaN</td>\n",
       "      <td>Urban</td>\n",
       "      <td>NaN</td>\n",
       "      <td>Taxi/Private hire car</td>\n",
       "    </tr>\n",
       "    <tr>\n",
       "      <th>3</th>\n",
       "      <td>200701BS66128</td>\n",
       "      <td>Serious</td>\n",
       "      <td>16-08-2019</td>\n",
       "      <td>51.495478</td>\n",
       "      <td>Daylight</td>\n",
       "      <td>Kensington and Chelsea</td>\n",
       "      <td>-0.202731</td>\n",
       "      <td>1</td>\n",
       "      <td>4</td>\n",
       "      <td>Dry</td>\n",
       "      <td>Single carriageway</td>\n",
       "      <td>Urban</td>\n",
       "      <td>Fine no high winds</td>\n",
       "      <td>Bus or coach (17 or more pass seats)</td>\n",
       "    </tr>\n",
       "    <tr>\n",
       "      <th>4</th>\n",
       "      <td>200701BS66837</td>\n",
       "      <td>Slight</td>\n",
       "      <td>3/9/2019</td>\n",
       "      <td>51.488576</td>\n",
       "      <td>Darkness - lights lit</td>\n",
       "      <td>Kensington and Chelsea</td>\n",
       "      <td>-0.192487</td>\n",
       "      <td>1</td>\n",
       "      <td>2</td>\n",
       "      <td>Dry</td>\n",
       "      <td>NaN</td>\n",
       "      <td>Urban</td>\n",
       "      <td>NaN</td>\n",
       "      <td>Other vehicle</td>\n",
       "    </tr>\n",
       "    <tr>\n",
       "      <th>...</th>\n",
       "      <td>...</td>\n",
       "      <td>...</td>\n",
       "      <td>...</td>\n",
       "      <td>...</td>\n",
       "      <td>...</td>\n",
       "      <td>...</td>\n",
       "      <td>...</td>\n",
       "      <td>...</td>\n",
       "      <td>...</td>\n",
       "      <td>...</td>\n",
       "      <td>...</td>\n",
       "      <td>...</td>\n",
       "      <td>...</td>\n",
       "      <td>...</td>\n",
       "    </tr>\n",
       "    <tr>\n",
       "      <th>660674</th>\n",
       "      <td>201091NM01760</td>\n",
       "      <td>Slight</td>\n",
       "      <td>18-02-2022</td>\n",
       "      <td>57.374005</td>\n",
       "      <td>Daylight</td>\n",
       "      <td>Highland</td>\n",
       "      <td>-3.467828</td>\n",
       "      <td>2</td>\n",
       "      <td>1</td>\n",
       "      <td>Dry</td>\n",
       "      <td>Single carriageway</td>\n",
       "      <td>Rural</td>\n",
       "      <td>Fine no high winds</td>\n",
       "      <td>Car</td>\n",
       "    </tr>\n",
       "    <tr>\n",
       "      <th>660675</th>\n",
       "      <td>201091NM01881</td>\n",
       "      <td>Slight</td>\n",
       "      <td>21-02-2022</td>\n",
       "      <td>57.232273</td>\n",
       "      <td>Darkness - no lighting</td>\n",
       "      <td>Highland</td>\n",
       "      <td>-3.809281</td>\n",
       "      <td>1</td>\n",
       "      <td>1</td>\n",
       "      <td>Frost or ice</td>\n",
       "      <td>Single carriageway</td>\n",
       "      <td>Rural</td>\n",
       "      <td>Fine no high winds</td>\n",
       "      <td>Car</td>\n",
       "    </tr>\n",
       "    <tr>\n",
       "      <th>660676</th>\n",
       "      <td>201091NM01935</td>\n",
       "      <td>Slight</td>\n",
       "      <td>23-02-2022</td>\n",
       "      <td>57.585044</td>\n",
       "      <td>Daylight</td>\n",
       "      <td>Highland</td>\n",
       "      <td>-3.862727</td>\n",
       "      <td>1</td>\n",
       "      <td>3</td>\n",
       "      <td>Frost or ice</td>\n",
       "      <td>Single carriageway</td>\n",
       "      <td>Rural</td>\n",
       "      <td>Fine no high winds</td>\n",
       "      <td>Car</td>\n",
       "    </tr>\n",
       "    <tr>\n",
       "      <th>660677</th>\n",
       "      <td>201091NM01964</td>\n",
       "      <td>Serious</td>\n",
       "      <td>23-02-2022</td>\n",
       "      <td>57.214898</td>\n",
       "      <td>Darkness - no lighting</td>\n",
       "      <td>Highland</td>\n",
       "      <td>-3.823997</td>\n",
       "      <td>1</td>\n",
       "      <td>2</td>\n",
       "      <td>Wet or damp</td>\n",
       "      <td>Single carriageway</td>\n",
       "      <td>Rural</td>\n",
       "      <td>Fine no high winds</td>\n",
       "      <td>Motorcycle over 500cc</td>\n",
       "    </tr>\n",
       "    <tr>\n",
       "      <th>660678</th>\n",
       "      <td>201091NM02142</td>\n",
       "      <td>Serious</td>\n",
       "      <td>28-02-2022</td>\n",
       "      <td>57.575210</td>\n",
       "      <td>Daylight</td>\n",
       "      <td>Highland</td>\n",
       "      <td>-3.895673</td>\n",
       "      <td>1</td>\n",
       "      <td>1</td>\n",
       "      <td>Wet or damp</td>\n",
       "      <td>Dual carriageway</td>\n",
       "      <td>Rural</td>\n",
       "      <td>Snowing no high winds</td>\n",
       "      <td>Car</td>\n",
       "    </tr>\n",
       "  </tbody>\n",
       "</table>\n",
       "<p>660679 rows × 14 columns</p>\n",
       "</div>"
      ],
      "text/plain": [
       "                Index Accident_Severity Accident Date   Latitude  \\\n",
       "0       200701BS64157           Serious      5/6/2019  51.506187   \n",
       "1       200701BS65737           Serious      2/7/2019  51.495029   \n",
       "2       200701BS66127           Serious    26-08-2019  51.517715   \n",
       "3       200701BS66128           Serious    16-08-2019  51.495478   \n",
       "4       200701BS66837            Slight      3/9/2019  51.488576   \n",
       "...               ...               ...           ...        ...   \n",
       "660674  201091NM01760            Slight    18-02-2022  57.374005   \n",
       "660675  201091NM01881            Slight    21-02-2022  57.232273   \n",
       "660676  201091NM01935            Slight    23-02-2022  57.585044   \n",
       "660677  201091NM01964           Serious    23-02-2022  57.214898   \n",
       "660678  201091NM02142           Serious    28-02-2022  57.575210   \n",
       "\n",
       "                   Light_Conditions           District Area  Longitude  \\\n",
       "0             Darkness - lights lit  Kensington and Chelsea  -0.209082   \n",
       "1                          Daylight  Kensington and Chelsea  -0.173647   \n",
       "2       Darkness - lighting unknown  Kensington and Chelsea  -0.210215   \n",
       "3                          Daylight  Kensington and Chelsea  -0.202731   \n",
       "4             Darkness - lights lit  Kensington and Chelsea  -0.192487   \n",
       "...                             ...                     ...        ...   \n",
       "660674                     Daylight                Highland  -3.467828   \n",
       "660675       Darkness - no lighting                Highland  -3.809281   \n",
       "660676                     Daylight                Highland  -3.862727   \n",
       "660677       Darkness - no lighting                Highland  -3.823997   \n",
       "660678                     Daylight                Highland  -3.895673   \n",
       "\n",
       "        Number_of_Casualties  Number_of_Vehicles Road_Surface_Conditions  \\\n",
       "0                          1                   2                     Dry   \n",
       "1                          1                   2             Wet or damp   \n",
       "2                          1                   3                     Dry   \n",
       "3                          1                   4                     Dry   \n",
       "4                          1                   2                     Dry   \n",
       "...                      ...                 ...                     ...   \n",
       "660674                     2                   1                     Dry   \n",
       "660675                     1                   1            Frost or ice   \n",
       "660676                     1                   3            Frost or ice   \n",
       "660677                     1                   2             Wet or damp   \n",
       "660678                     1                   1             Wet or damp   \n",
       "\n",
       "                 Road_Type Urban_or_Rural_Area     Weather_Conditions  \\\n",
       "0       Single carriageway               Urban     Fine no high winds   \n",
       "1       Single carriageway               Urban  Raining no high winds   \n",
       "2                      NaN               Urban                    NaN   \n",
       "3       Single carriageway               Urban     Fine no high winds   \n",
       "4                      NaN               Urban                    NaN   \n",
       "...                    ...                 ...                    ...   \n",
       "660674  Single carriageway               Rural     Fine no high winds   \n",
       "660675  Single carriageway               Rural     Fine no high winds   \n",
       "660676  Single carriageway               Rural     Fine no high winds   \n",
       "660677  Single carriageway               Rural     Fine no high winds   \n",
       "660678    Dual carriageway               Rural  Snowing no high winds   \n",
       "\n",
       "                                Vehicle_Type  \n",
       "0                                        Car  \n",
       "1                                        Car  \n",
       "2                      Taxi/Private hire car  \n",
       "3       Bus or coach (17 or more pass seats)  \n",
       "4                              Other vehicle  \n",
       "...                                      ...  \n",
       "660674                                   Car  \n",
       "660675                                   Car  \n",
       "660676                                   Car  \n",
       "660677                 Motorcycle over 500cc  \n",
       "660678                                   Car  \n",
       "\n",
       "[660679 rows x 14 columns]"
      ]
     },
     "execution_count": 6,
     "metadata": {},
     "output_type": "execute_result"
    }
   ],
   "source": [
    "road"
   ]
  },
  {
   "cell_type": "code",
   "execution_count": 7,
   "id": "8fad6f39-f213-491a-8eb9-8b2fe9380f21",
   "metadata": {},
   "outputs": [
    {
     "data": {
      "text/html": [
       "<div>\n",
       "<style scoped>\n",
       "    .dataframe tbody tr th:only-of-type {\n",
       "        vertical-align: middle;\n",
       "    }\n",
       "\n",
       "    .dataframe tbody tr th {\n",
       "        vertical-align: top;\n",
       "    }\n",
       "\n",
       "    .dataframe thead th {\n",
       "        text-align: right;\n",
       "    }\n",
       "</style>\n",
       "<table border=\"1\" class=\"dataframe\">\n",
       "  <thead>\n",
       "    <tr style=\"text-align: right;\">\n",
       "      <th></th>\n",
       "      <th>Latitude</th>\n",
       "      <th>Longitude</th>\n",
       "      <th>Number_of_Casualties</th>\n",
       "      <th>Number_of_Vehicles</th>\n",
       "    </tr>\n",
       "  </thead>\n",
       "  <tbody>\n",
       "    <tr>\n",
       "      <th>count</th>\n",
       "      <td>660654.0</td>\n",
       "      <td>660653.0</td>\n",
       "      <td>660679.0</td>\n",
       "      <td>660679.0</td>\n",
       "    </tr>\n",
       "    <tr>\n",
       "      <th>mean</th>\n",
       "      <td>53.0</td>\n",
       "      <td>-1.0</td>\n",
       "      <td>1.0</td>\n",
       "      <td>2.0</td>\n",
       "    </tr>\n",
       "    <tr>\n",
       "      <th>std</th>\n",
       "      <td>1.0</td>\n",
       "      <td>1.0</td>\n",
       "      <td>1.0</td>\n",
       "      <td>1.0</td>\n",
       "    </tr>\n",
       "    <tr>\n",
       "      <th>min</th>\n",
       "      <td>50.0</td>\n",
       "      <td>-8.0</td>\n",
       "      <td>1.0</td>\n",
       "      <td>1.0</td>\n",
       "    </tr>\n",
       "    <tr>\n",
       "      <th>25%</th>\n",
       "      <td>51.0</td>\n",
       "      <td>-2.0</td>\n",
       "      <td>1.0</td>\n",
       "      <td>1.0</td>\n",
       "    </tr>\n",
       "    <tr>\n",
       "      <th>50%</th>\n",
       "      <td>52.0</td>\n",
       "      <td>-1.0</td>\n",
       "      <td>1.0</td>\n",
       "      <td>2.0</td>\n",
       "    </tr>\n",
       "    <tr>\n",
       "      <th>75%</th>\n",
       "      <td>53.0</td>\n",
       "      <td>-0.0</td>\n",
       "      <td>1.0</td>\n",
       "      <td>2.0</td>\n",
       "    </tr>\n",
       "    <tr>\n",
       "      <th>max</th>\n",
       "      <td>61.0</td>\n",
       "      <td>2.0</td>\n",
       "      <td>68.0</td>\n",
       "      <td>32.0</td>\n",
       "    </tr>\n",
       "  </tbody>\n",
       "</table>\n",
       "</div>"
      ],
      "text/plain": [
       "       Latitude  Longitude  Number_of_Casualties  Number_of_Vehicles\n",
       "count  660654.0   660653.0              660679.0            660679.0\n",
       "mean       53.0       -1.0                   1.0                 2.0\n",
       "std         1.0        1.0                   1.0                 1.0\n",
       "min        50.0       -8.0                   1.0                 1.0\n",
       "25%        51.0       -2.0                   1.0                 1.0\n",
       "50%        52.0       -1.0                   1.0                 2.0\n",
       "75%        53.0       -0.0                   1.0                 2.0\n",
       "max        61.0        2.0                  68.0                32.0"
      ]
     },
     "execution_count": 7,
     "metadata": {},
     "output_type": "execute_result"
    }
   ],
   "source": [
    "road.describe().round()"
   ]
  },
  {
   "cell_type": "code",
   "execution_count": 8,
   "id": "444fa540-050d-4914-a9b7-c7a20d0b28c2",
   "metadata": {},
   "outputs": [
    {
     "data": {
      "text/html": [
       "<div>\n",
       "<style scoped>\n",
       "    .dataframe tbody tr th:only-of-type {\n",
       "        vertical-align: middle;\n",
       "    }\n",
       "\n",
       "    .dataframe tbody tr th {\n",
       "        vertical-align: top;\n",
       "    }\n",
       "\n",
       "    .dataframe thead th {\n",
       "        text-align: right;\n",
       "    }\n",
       "</style>\n",
       "<table border=\"1\" class=\"dataframe\">\n",
       "  <thead>\n",
       "    <tr style=\"text-align: right;\">\n",
       "      <th></th>\n",
       "      <th>count</th>\n",
       "      <th>mean</th>\n",
       "      <th>std</th>\n",
       "      <th>min</th>\n",
       "      <th>25%</th>\n",
       "      <th>50%</th>\n",
       "      <th>75%</th>\n",
       "      <th>max</th>\n",
       "    </tr>\n",
       "  </thead>\n",
       "  <tbody>\n",
       "    <tr>\n",
       "      <th>Latitude</th>\n",
       "      <td>660654.0</td>\n",
       "      <td>52.553866</td>\n",
       "      <td>1.406922</td>\n",
       "      <td>49.914430</td>\n",
       "      <td>51.490690</td>\n",
       "      <td>52.315641</td>\n",
       "      <td>53.453452</td>\n",
       "      <td>60.757544</td>\n",
       "    </tr>\n",
       "    <tr>\n",
       "      <th>Longitude</th>\n",
       "      <td>660653.0</td>\n",
       "      <td>-1.431210</td>\n",
       "      <td>1.383330</td>\n",
       "      <td>-7.516225</td>\n",
       "      <td>-2.332291</td>\n",
       "      <td>-1.411667</td>\n",
       "      <td>-0.232869</td>\n",
       "      <td>1.762010</td>\n",
       "    </tr>\n",
       "    <tr>\n",
       "      <th>Number_of_Casualties</th>\n",
       "      <td>660679.0</td>\n",
       "      <td>1.357040</td>\n",
       "      <td>0.824847</td>\n",
       "      <td>1.000000</td>\n",
       "      <td>1.000000</td>\n",
       "      <td>1.000000</td>\n",
       "      <td>1.000000</td>\n",
       "      <td>68.000000</td>\n",
       "    </tr>\n",
       "    <tr>\n",
       "      <th>Number_of_Vehicles</th>\n",
       "      <td>660679.0</td>\n",
       "      <td>1.831255</td>\n",
       "      <td>0.715269</td>\n",
       "      <td>1.000000</td>\n",
       "      <td>1.000000</td>\n",
       "      <td>2.000000</td>\n",
       "      <td>2.000000</td>\n",
       "      <td>32.000000</td>\n",
       "    </tr>\n",
       "  </tbody>\n",
       "</table>\n",
       "</div>"
      ],
      "text/plain": [
       "                         count       mean       std        min        25%  \\\n",
       "Latitude              660654.0  52.553866  1.406922  49.914430  51.490690   \n",
       "Longitude             660653.0  -1.431210  1.383330  -7.516225  -2.332291   \n",
       "Number_of_Casualties  660679.0   1.357040  0.824847   1.000000   1.000000   \n",
       "Number_of_Vehicles    660679.0   1.831255  0.715269   1.000000   1.000000   \n",
       "\n",
       "                            50%        75%        max  \n",
       "Latitude              52.315641  53.453452  60.757544  \n",
       "Longitude             -1.411667  -0.232869   1.762010  \n",
       "Number_of_Casualties   1.000000   1.000000  68.000000  \n",
       "Number_of_Vehicles     2.000000   2.000000  32.000000  "
      ]
     },
     "execution_count": 8,
     "metadata": {},
     "output_type": "execute_result"
    }
   ],
   "source": [
    "road.describe().T"
   ]
  },
  {
   "cell_type": "code",
   "execution_count": 9,
   "id": "2b5bb9ff-1e01-4b3d-ada2-f5ca8424934e",
   "metadata": {},
   "outputs": [
    {
     "data": {
      "text/plain": [
       "0         Serious\n",
       "1         Serious\n",
       "2         Serious\n",
       "3         Serious\n",
       "4          Slight\n",
       "           ...   \n",
       "660674     Slight\n",
       "660675     Slight\n",
       "660676     Slight\n",
       "660677    Serious\n",
       "660678    Serious\n",
       "Name: Accident_Severity, Length: 660679, dtype: object"
      ]
     },
     "execution_count": 9,
     "metadata": {},
     "output_type": "execute_result"
    }
   ],
   "source": [
    "road['Accident_Severity']"
   ]
  },
  {
   "cell_type": "code",
   "execution_count": 10,
   "id": "63773afb-4dde-454b-8831-0abc558fc2a9",
   "metadata": {},
   "outputs": [
    {
     "data": {
      "text/plain": [
       "0           5/6/2019\n",
       "1           2/7/2019\n",
       "2         26-08-2019\n",
       "3         16-08-2019\n",
       "4           3/9/2019\n",
       "             ...    \n",
       "660674    18-02-2022\n",
       "660675    21-02-2022\n",
       "660676    23-02-2022\n",
       "660677    23-02-2022\n",
       "660678    28-02-2022\n",
       "Name: Accident Date, Length: 660679, dtype: object"
      ]
     },
     "execution_count": 10,
     "metadata": {},
     "output_type": "execute_result"
    }
   ],
   "source": [
    "road['Accident Date']"
   ]
  },
  {
   "cell_type": "code",
   "execution_count": 11,
   "id": "32fa77e3-3227-4c26-98b8-68a9c42ee1e3",
   "metadata": {},
   "outputs": [
    {
     "data": {
      "text/plain": [
       "0         51.506187\n",
       "1         51.495029\n",
       "2         51.517715\n",
       "3         51.495478\n",
       "4         51.488576\n",
       "            ...    \n",
       "660674    57.374005\n",
       "660675    57.232273\n",
       "660676    57.585044\n",
       "660677    57.214898\n",
       "660678    57.575210\n",
       "Name: Latitude, Length: 660679, dtype: float64"
      ]
     },
     "execution_count": 11,
     "metadata": {},
     "output_type": "execute_result"
    }
   ],
   "source": [
    "road['Latitude']"
   ]
  },
  {
   "cell_type": "code",
   "execution_count": 12,
   "id": "41696755-c8f1-4279-a698-7caebe29a67a",
   "metadata": {},
   "outputs": [
    {
     "data": {
      "text/plain": [
       "0               Darkness - lights lit\n",
       "1                            Daylight\n",
       "2         Darkness - lighting unknown\n",
       "3                            Daylight\n",
       "4               Darkness - lights lit\n",
       "                     ...             \n",
       "660674                       Daylight\n",
       "660675         Darkness - no lighting\n",
       "660676                       Daylight\n",
       "660677         Darkness - no lighting\n",
       "660678                       Daylight\n",
       "Name: Light_Conditions, Length: 660679, dtype: object"
      ]
     },
     "execution_count": 12,
     "metadata": {},
     "output_type": "execute_result"
    }
   ],
   "source": [
    "road['Light_Conditions']"
   ]
  },
  {
   "cell_type": "code",
   "execution_count": 13,
   "id": "fc159950-34be-488c-b6c6-20ad67934523",
   "metadata": {},
   "outputs": [
    {
     "data": {
      "text/plain": [
       "0         Kensington and Chelsea\n",
       "1         Kensington and Chelsea\n",
       "2         Kensington and Chelsea\n",
       "3         Kensington and Chelsea\n",
       "4         Kensington and Chelsea\n",
       "                   ...          \n",
       "660674                  Highland\n",
       "660675                  Highland\n",
       "660676                  Highland\n",
       "660677                  Highland\n",
       "660678                  Highland\n",
       "Name: District Area, Length: 660679, dtype: object"
      ]
     },
     "execution_count": 13,
     "metadata": {},
     "output_type": "execute_result"
    }
   ],
   "source": [
    "road['District Area']"
   ]
  },
  {
   "cell_type": "code",
   "execution_count": 14,
   "id": "c54d916d-bc85-4515-9f9c-bf79ca0677f9",
   "metadata": {},
   "outputs": [
    {
     "data": {
      "text/plain": [
       "0        -0.209082\n",
       "1        -0.173647\n",
       "2        -0.210215\n",
       "3        -0.202731\n",
       "4        -0.192487\n",
       "            ...   \n",
       "660674   -3.467828\n",
       "660675   -3.809281\n",
       "660676   -3.862727\n",
       "660677   -3.823997\n",
       "660678   -3.895673\n",
       "Name: Longitude, Length: 660679, dtype: float64"
      ]
     },
     "execution_count": 14,
     "metadata": {},
     "output_type": "execute_result"
    }
   ],
   "source": [
    "road['Longitude']"
   ]
  },
  {
   "cell_type": "code",
   "execution_count": 15,
   "id": "a82f0322-6c2e-4363-adb7-af59c5e75ca5",
   "metadata": {},
   "outputs": [
    {
     "data": {
      "text/plain": [
       "0         1\n",
       "1         1\n",
       "2         1\n",
       "3         1\n",
       "4         1\n",
       "         ..\n",
       "660674    2\n",
       "660675    1\n",
       "660676    1\n",
       "660677    1\n",
       "660678    1\n",
       "Name: Number_of_Casualties, Length: 660679, dtype: int64"
      ]
     },
     "execution_count": 15,
     "metadata": {},
     "output_type": "execute_result"
    }
   ],
   "source": [
    "road['Number_of_Casualties']"
   ]
  },
  {
   "cell_type": "code",
   "execution_count": 16,
   "id": "b9966cac-7915-4a4d-acd6-3f3e636b5d42",
   "metadata": {},
   "outputs": [
    {
     "data": {
      "text/plain": [
       "0         2\n",
       "1         2\n",
       "2         3\n",
       "3         4\n",
       "4         2\n",
       "         ..\n",
       "660674    1\n",
       "660675    1\n",
       "660676    3\n",
       "660677    2\n",
       "660678    1\n",
       "Name: Number_of_Vehicles, Length: 660679, dtype: int64"
      ]
     },
     "execution_count": 16,
     "metadata": {},
     "output_type": "execute_result"
    }
   ],
   "source": [
    "road['Number_of_Vehicles']"
   ]
  },
  {
   "cell_type": "code",
   "execution_count": 17,
   "id": "f0447343-dacd-4575-bea1-78afb532f7dd",
   "metadata": {},
   "outputs": [
    {
     "data": {
      "text/plain": [
       "0                  Dry\n",
       "1          Wet or damp\n",
       "2                  Dry\n",
       "3                  Dry\n",
       "4                  Dry\n",
       "              ...     \n",
       "660674             Dry\n",
       "660675    Frost or ice\n",
       "660676    Frost or ice\n",
       "660677     Wet or damp\n",
       "660678     Wet or damp\n",
       "Name: Road_Surface_Conditions, Length: 660679, dtype: object"
      ]
     },
     "execution_count": 17,
     "metadata": {},
     "output_type": "execute_result"
    }
   ],
   "source": [
    "road['Road_Surface_Conditions']"
   ]
  },
  {
   "cell_type": "code",
   "execution_count": 18,
   "id": "9f0f9c32-265d-42f8-a55f-69a6b2e53034",
   "metadata": {},
   "outputs": [
    {
     "data": {
      "text/plain": [
       "0         Single carriageway\n",
       "1         Single carriageway\n",
       "2                        NaN\n",
       "3         Single carriageway\n",
       "4                        NaN\n",
       "                 ...        \n",
       "660674    Single carriageway\n",
       "660675    Single carriageway\n",
       "660676    Single carriageway\n",
       "660677    Single carriageway\n",
       "660678      Dual carriageway\n",
       "Name: Road_Type, Length: 660679, dtype: object"
      ]
     },
     "execution_count": 18,
     "metadata": {},
     "output_type": "execute_result"
    }
   ],
   "source": [
    "road['Road_Type']"
   ]
  },
  {
   "cell_type": "code",
   "execution_count": 19,
   "id": "c6d23756-22ae-402e-b0e2-f22dd99a6be9",
   "metadata": {},
   "outputs": [
    {
     "data": {
      "text/plain": [
       "0         Urban\n",
       "1         Urban\n",
       "2         Urban\n",
       "3         Urban\n",
       "4         Urban\n",
       "          ...  \n",
       "660674    Rural\n",
       "660675    Rural\n",
       "660676    Rural\n",
       "660677    Rural\n",
       "660678    Rural\n",
       "Name: Urban_or_Rural_Area, Length: 660679, dtype: object"
      ]
     },
     "execution_count": 19,
     "metadata": {},
     "output_type": "execute_result"
    }
   ],
   "source": [
    "road['Urban_or_Rural_Area']"
   ]
  },
  {
   "cell_type": "code",
   "execution_count": 20,
   "id": "716dfca1-68ec-46d2-b8df-9d33868aefe8",
   "metadata": {},
   "outputs": [
    {
     "data": {
      "text/plain": [
       "0            Fine no high winds\n",
       "1         Raining no high winds\n",
       "2                           NaN\n",
       "3            Fine no high winds\n",
       "4                           NaN\n",
       "                  ...          \n",
       "660674       Fine no high winds\n",
       "660675       Fine no high winds\n",
       "660676       Fine no high winds\n",
       "660677       Fine no high winds\n",
       "660678    Snowing no high winds\n",
       "Name: Weather_Conditions, Length: 660679, dtype: object"
      ]
     },
     "execution_count": 20,
     "metadata": {},
     "output_type": "execute_result"
    }
   ],
   "source": [
    "road['Weather_Conditions']"
   ]
  },
  {
   "cell_type": "code",
   "execution_count": 21,
   "id": "139d6f41-24b6-4cf6-afd7-e31909f6dd09",
   "metadata": {},
   "outputs": [
    {
     "data": {
      "text/plain": [
       "0                                          Car\n",
       "1                                          Car\n",
       "2                        Taxi/Private hire car\n",
       "3         Bus or coach (17 or more pass seats)\n",
       "4                                Other vehicle\n",
       "                          ...                 \n",
       "660674                                     Car\n",
       "660675                                     Car\n",
       "660676                                     Car\n",
       "660677                   Motorcycle over 500cc\n",
       "660678                                     Car\n",
       "Name: Vehicle_Type, Length: 660679, dtype: object"
      ]
     },
     "execution_count": 21,
     "metadata": {},
     "output_type": "execute_result"
    }
   ],
   "source": [
    "road['Vehicle_Type']"
   ]
  },
  {
   "cell_type": "code",
   "execution_count": 22,
   "id": "2830c2f4-85ce-4c11-8726-bb83a7fb359a",
   "metadata": {},
   "outputs": [
    {
     "data": {
      "text/plain": [
       "Index                          0\n",
       "Accident_Severity              0\n",
       "Accident Date                  0\n",
       "Latitude                      25\n",
       "Light_Conditions               0\n",
       "District Area                  0\n",
       "Longitude                     26\n",
       "Number_of_Casualties           0\n",
       "Number_of_Vehicles             0\n",
       "Road_Surface_Conditions      726\n",
       "Road_Type                   4520\n",
       "Urban_or_Rural_Area           15\n",
       "Weather_Conditions         14128\n",
       "Vehicle_Type                   0\n",
       "dtype: int64"
      ]
     },
     "execution_count": 22,
     "metadata": {},
     "output_type": "execute_result"
    }
   ],
   "source": [
    "road.isnull().sum()"
   ]
  },
  {
   "cell_type": "code",
   "execution_count": 30,
   "id": "9283bdf4-f28e-4afb-b15b-7cef53ced998",
   "metadata": {},
   "outputs": [],
   "source": [
    "road['Latitude'] = road['Latitude'].fillna(road['Latitude'].mode()[0])"
   ]
  },
  {
   "cell_type": "code",
   "execution_count": 31,
   "id": "d65f916d-ed5d-44e9-a834-1a7afdf64961",
   "metadata": {},
   "outputs": [],
   "source": [
    "road['Longitude'] = road['Longitude'].fillna(road['Longitude'].mode()[0])"
   ]
  },
  {
   "cell_type": "code",
   "execution_count": 32,
   "id": "4a36a16b-4c60-4f5a-9319-e5c269ebae82",
   "metadata": {},
   "outputs": [],
   "source": [
    "road['Road_Surface_Conditions'] = road['Road_Surface_Conditions'].fillna(road['Road_Surface_Conditions'].mode()[0])"
   ]
  },
  {
   "cell_type": "code",
   "execution_count": 33,
   "id": "1d031aba-6918-403f-a2f9-de01d8b7d65d",
   "metadata": {},
   "outputs": [],
   "source": [
    "road['Road_Type'] = road['Road_Type'].fillna(road['Road_Type'].mode()[0])"
   ]
  },
  {
   "cell_type": "code",
   "execution_count": 35,
   "id": "23808500-5ed9-4cb1-8ba5-85d69239a57e",
   "metadata": {},
   "outputs": [],
   "source": [
    "road['Urban_or_Rural_Area'] = road['Urban_or_Rural_Area'].fillna(road['Urban_or_Rural_Area'].mode()[0])"
   ]
  },
  {
   "cell_type": "code",
   "execution_count": 36,
   "id": "76e49569-039a-4482-8c77-3b8f125f0080",
   "metadata": {},
   "outputs": [],
   "source": [
    "road['Weather_Conditions'] = road['Weather_Conditions'].fillna(road['Weather_Conditions'].mode()[0])"
   ]
  },
  {
   "cell_type": "code",
   "execution_count": 37,
   "id": "990b12dd-5c17-4b86-b90d-0ab28b08c430",
   "metadata": {},
   "outputs": [
    {
     "data": {
      "text/plain": [
       "Index                      0\n",
       "Accident_Severity          0\n",
       "Accident Date              0\n",
       "Latitude                   0\n",
       "Light_Conditions           0\n",
       "District Area              0\n",
       "Longitude                  0\n",
       "Number_of_Casualties       0\n",
       "Number_of_Vehicles         0\n",
       "Road_Surface_Conditions    0\n",
       "Road_Type                  0\n",
       "Urban_or_Rural_Area        0\n",
       "Weather_Conditions         0\n",
       "Vehicle_Type               0\n",
       "dtype: int64"
      ]
     },
     "execution_count": 37,
     "metadata": {},
     "output_type": "execute_result"
    }
   ],
   "source": [
    "road.isnull().sum()"
   ]
  },
  {
   "cell_type": "code",
   "execution_count": 47,
   "id": "01630f1f-51e3-4303-8b39-dfa3895ae32c",
   "metadata": {},
   "outputs": [],
   "source": [
    "road['Accident_Severity'] = road['Accident_Severity'].astype('object')\n",
    "road['Accident Date'] = road['Accident Date'].astype('object')\n",
    "road['Light_Conditions'] = road['Light_Conditions'].astype('object')\n",
    "road['District Area'] = road['District Area'].astype('object')\n",
    "road['Road_Surface_Conditions'] = road['Road_Surface_Conditions'].astype('object')\n",
    "road['Road_Type'] = road['Road_Type'].astype('object')\n",
    "road['Urban_or_Rural_Area'] = road['Urban_or_Rural_Area'].astype('object')\n",
    "road['Weather_Conditions'] = road['Weather_Conditions'].astype('object')\n",
    "road['Vehicle_Type'] = road['Vehicle_Type'].astype('object')"
   ]
  },
  {
   "cell_type": "code",
   "execution_count": 48,
   "id": "6ec23964-a091-4bd7-9c18-25a489f07506",
   "metadata": {},
   "outputs": [
    {
     "name": "stdout",
     "output_type": "stream",
     "text": [
      "<class 'pandas.core.frame.DataFrame'>\n",
      "RangeIndex: 660679 entries, 0 to 660678\n",
      "Data columns (total 14 columns):\n",
      " #   Column                   Non-Null Count   Dtype  \n",
      "---  ------                   --------------   -----  \n",
      " 0   Index                    660679 non-null  object \n",
      " 1   Accident_Severity        660679 non-null  object \n",
      " 2   Accident Date            660679 non-null  object \n",
      " 3   Latitude                 660679 non-null  float64\n",
      " 4   Light_Conditions         660679 non-null  object \n",
      " 5   District Area            660679 non-null  object \n",
      " 6   Longitude                660679 non-null  float64\n",
      " 7   Number_of_Casualties     660679 non-null  int64  \n",
      " 8   Number_of_Vehicles       660679 non-null  int64  \n",
      " 9   Road_Surface_Conditions  660679 non-null  object \n",
      " 10  Road_Type                660679 non-null  object \n",
      " 11  Urban_or_Rural_Area      660679 non-null  object \n",
      " 12  Weather_Conditions       660679 non-null  object \n",
      " 13  Vehicle_Type             660679 non-null  object \n",
      "dtypes: float64(2), int64(2), object(10)\n",
      "memory usage: 70.6+ MB\n"
     ]
    }
   ],
   "source": [
    "road.info()"
   ]
  },
  {
   "cell_type": "markdown",
   "id": "990fc69d-ac1f-4f6e-b6d3-d9d3475ab0e5",
   "metadata": {},
   "source": [
    "<h2>20 Question with descriptive analysis </h2>"
   ]
  },
  {
   "cell_type": "markdown",
   "id": "898c90ea-0be7-4ed7-afae-7f0f3bf5a377",
   "metadata": {},
   "source": [
    "1. How many accident happen base on the data?"
   ]
  },
  {
   "cell_type": "code",
   "execution_count": 50,
   "id": "2c8f3912-a946-4eb5-b6bb-ccd54fb2780c",
   "metadata": {},
   "outputs": [
    {
     "name": "stdout",
     "output_type": "stream",
     "text": [
      "660679\n"
     ]
    }
   ],
   "source": [
    "number_accident = len(road)\n",
    "print(number_accident)"
   ]
  },
  {
   "cell_type": "markdown",
   "id": "863bada0-09c5-4bfa-aec1-584f9b06b98e",
   "metadata": {},
   "source": [
    "Analysis : There are 660679 accident base on the data"
   ]
  },
  {
   "cell_type": "markdown",
   "id": "984bc8bb-e7df-486a-9340-f4269219928f",
   "metadata": {},
   "source": [
    "2. What is the distribution of accident severities by vehicle type?"
   ]
  },
  {
   "cell_type": "code",
   "execution_count": 53,
   "id": "ad65d191-fd59-4c06-8d97-717e3b2b9c3b",
   "metadata": {},
   "outputs": [
    {
     "data": {
      "text/html": [
       "<div>\n",
       "<style scoped>\n",
       "    .dataframe tbody tr th:only-of-type {\n",
       "        vertical-align: middle;\n",
       "    }\n",
       "\n",
       "    .dataframe tbody tr th {\n",
       "        vertical-align: top;\n",
       "    }\n",
       "\n",
       "    .dataframe thead th {\n",
       "        text-align: right;\n",
       "    }\n",
       "</style>\n",
       "<table border=\"1\" class=\"dataframe\">\n",
       "  <thead>\n",
       "    <tr style=\"text-align: right;\">\n",
       "      <th>Accident_Severity</th>\n",
       "      <th>Fatal</th>\n",
       "      <th>Serious</th>\n",
       "      <th>Slight</th>\n",
       "    </tr>\n",
       "    <tr>\n",
       "      <th>Vehicle_Type</th>\n",
       "      <th></th>\n",
       "      <th></th>\n",
       "      <th></th>\n",
       "    </tr>\n",
       "  </thead>\n",
       "  <tbody>\n",
       "    <tr>\n",
       "      <th>Agricultural vehicle</th>\n",
       "      <td>21</td>\n",
       "      <td>282</td>\n",
       "      <td>1644</td>\n",
       "    </tr>\n",
       "    <tr>\n",
       "      <th>Bus or coach (17 or more pass seats)</th>\n",
       "      <td>325</td>\n",
       "      <td>3373</td>\n",
       "      <td>22180</td>\n",
       "    </tr>\n",
       "    <tr>\n",
       "      <th>Car</th>\n",
       "      <td>6577</td>\n",
       "      <td>66461</td>\n",
       "      <td>424954</td>\n",
       "    </tr>\n",
       "    <tr>\n",
       "      <th>Data missing or out of range</th>\n",
       "      <td>0</td>\n",
       "      <td>0</td>\n",
       "      <td>6</td>\n",
       "    </tr>\n",
       "    <tr>\n",
       "      <th>Goods 7.5 tonnes mgw and over</th>\n",
       "      <td>216</td>\n",
       "      <td>2321</td>\n",
       "      <td>14770</td>\n",
       "    </tr>\n",
       "    <tr>\n",
       "      <th>Goods over 3.5t. and under 7.5t</th>\n",
       "      <td>67</td>\n",
       "      <td>857</td>\n",
       "      <td>5172</td>\n",
       "    </tr>\n",
       "    <tr>\n",
       "      <th>Minibus (8 - 16 passenger seats)</th>\n",
       "      <td>29</td>\n",
       "      <td>276</td>\n",
       "      <td>1671</td>\n",
       "    </tr>\n",
       "    <tr>\n",
       "      <th>Motorcycle 125cc and under</th>\n",
       "      <td>189</td>\n",
       "      <td>2031</td>\n",
       "      <td>13049</td>\n",
       "    </tr>\n",
       "    <tr>\n",
       "      <th>Motorcycle 50cc and under</th>\n",
       "      <td>95</td>\n",
       "      <td>1014</td>\n",
       "      <td>6494</td>\n",
       "    </tr>\n",
       "    <tr>\n",
       "      <th>Motorcycle over 125cc and up to 500cc</th>\n",
       "      <td>105</td>\n",
       "      <td>1014</td>\n",
       "      <td>6537</td>\n",
       "    </tr>\n",
       "    <tr>\n",
       "      <th>Motorcycle over 500cc</th>\n",
       "      <td>339</td>\n",
       "      <td>3457</td>\n",
       "      <td>21861</td>\n",
       "    </tr>\n",
       "    <tr>\n",
       "      <th>Other vehicle</th>\n",
       "      <td>70</td>\n",
       "      <td>767</td>\n",
       "      <td>4800</td>\n",
       "    </tr>\n",
       "    <tr>\n",
       "      <th>Pedal cycle</th>\n",
       "      <td>6</td>\n",
       "      <td>39</td>\n",
       "      <td>152</td>\n",
       "    </tr>\n",
       "    <tr>\n",
       "      <th>Ridden horse</th>\n",
       "      <td>0</td>\n",
       "      <td>0</td>\n",
       "      <td>4</td>\n",
       "    </tr>\n",
       "    <tr>\n",
       "      <th>Taxi/Private hire car</th>\n",
       "      <td>155</td>\n",
       "      <td>1771</td>\n",
       "      <td>11368</td>\n",
       "    </tr>\n",
       "    <tr>\n",
       "      <th>Van / Goods 3.5 tonnes mgw or under</th>\n",
       "      <td>467</td>\n",
       "      <td>4554</td>\n",
       "      <td>29139</td>\n",
       "    </tr>\n",
       "  </tbody>\n",
       "</table>\n",
       "</div>"
      ],
      "text/plain": [
       "Accident_Severity                      Fatal  Serious  Slight\n",
       "Vehicle_Type                                                 \n",
       "Agricultural vehicle                      21      282    1644\n",
       "Bus or coach (17 or more pass seats)     325     3373   22180\n",
       "Car                                     6577    66461  424954\n",
       "Data missing or out of range               0        0       6\n",
       "Goods 7.5 tonnes mgw and over            216     2321   14770\n",
       "Goods over 3.5t. and under 7.5t           67      857    5172\n",
       "Minibus (8 - 16 passenger seats)          29      276    1671\n",
       "Motorcycle 125cc and under               189     2031   13049\n",
       "Motorcycle 50cc and under                 95     1014    6494\n",
       "Motorcycle over 125cc and up to 500cc    105     1014    6537\n",
       "Motorcycle over 500cc                    339     3457   21861\n",
       "Other vehicle                             70      767    4800\n",
       "Pedal cycle                                6       39     152\n",
       "Ridden horse                               0        0       4\n",
       "Taxi/Private hire car                    155     1771   11368\n",
       "Van / Goods 3.5 tonnes mgw or under      467     4554   29139"
      ]
     },
     "execution_count": 53,
     "metadata": {},
     "output_type": "execute_result"
    }
   ],
   "source": [
    "pd.crosstab(road['Vehicle_Type'], road['Accident_Severity'])"
   ]
  },
  {
   "cell_type": "markdown",
   "id": "f839e1df-785b-4828-8bee-031738e0e370",
   "metadata": {},
   "source": [
    "Analysis:\n",
    " This shows how different types of vehicles are associated with different severity levels."
   ]
  },
  {
   "cell_type": "markdown",
   "id": "9683916c-843c-4be7-a954-9a6c94ed65c9",
   "metadata": {},
   "source": [
    "3.What is the correlation matrix for numerical accident features?"
   ]
  },
  {
   "cell_type": "code",
   "execution_count": 54,
   "id": "6278547e-3023-4dfa-861d-13103b8a1a72",
   "metadata": {},
   "outputs": [
    {
     "data": {
      "text/html": [
       "<div>\n",
       "<style scoped>\n",
       "    .dataframe tbody tr th:only-of-type {\n",
       "        vertical-align: middle;\n",
       "    }\n",
       "\n",
       "    .dataframe tbody tr th {\n",
       "        vertical-align: top;\n",
       "    }\n",
       "\n",
       "    .dataframe thead th {\n",
       "        text-align: right;\n",
       "    }\n",
       "</style>\n",
       "<table border=\"1\" class=\"dataframe\">\n",
       "  <thead>\n",
       "    <tr style=\"text-align: right;\">\n",
       "      <th></th>\n",
       "      <th>Number_of_Casualties</th>\n",
       "      <th>Number_of_Vehicles</th>\n",
       "    </tr>\n",
       "  </thead>\n",
       "  <tbody>\n",
       "    <tr>\n",
       "      <th>Number_of_Casualties</th>\n",
       "      <td>1.000000</td>\n",
       "      <td>0.228889</td>\n",
       "    </tr>\n",
       "    <tr>\n",
       "      <th>Number_of_Vehicles</th>\n",
       "      <td>0.228889</td>\n",
       "      <td>1.000000</td>\n",
       "    </tr>\n",
       "  </tbody>\n",
       "</table>\n",
       "</div>"
      ],
      "text/plain": [
       "                      Number_of_Casualties  Number_of_Vehicles\n",
       "Number_of_Casualties              1.000000            0.228889\n",
       "Number_of_Vehicles                0.228889            1.000000"
      ]
     },
     "execution_count": 54,
     "metadata": {},
     "output_type": "execute_result"
    }
   ],
   "source": [
    "road[['Number_of_Casualties','Number_of_Vehicles']].corr()"
   ]
  },
  {
   "cell_type": "markdown",
   "id": "46f8e518-ee41-4452-8117-b58dbffa3829",
   "metadata": {},
   "source": [
    "Analysis: This shows correlation between casualties and vehicles in accidents."
   ]
  },
  {
   "cell_type": "markdown",
   "id": "69fa2b9d-0fea-48ea-ab3a-cf4e33cf6f05",
   "metadata": {},
   "source": [
    "4. How many accidents involved more than 2 vehicles?"
   ]
  },
  {
   "cell_type": "code",
   "execution_count": 55,
   "id": "20fb412c-02e7-48e2-aa1b-43881ed49140",
   "metadata": {},
   "outputs": [
    {
     "data": {
      "text/plain": [
       "67897"
      ]
     },
     "execution_count": 55,
     "metadata": {},
     "output_type": "execute_result"
    }
   ],
   "source": [
    "len(road[road['Number_of_Vehicles'] > 2])"
   ]
  },
  {
   "cell_type": "markdown",
   "id": "100c0ce1-453a-44a6-ae61-8e9b96a1eb02",
   "metadata": {},
   "source": [
    "Analysis:\n",
    "This gives the count of multi-vehicle accidents."
   ]
  },
  {
   "cell_type": "markdown",
   "id": "918ebf42-6581-43b5-bc01-f5e58e5a3b35",
   "metadata": {},
   "source": [
    "5.How does accident severity vary by road surface condition?"
   ]
  },
  {
   "cell_type": "code",
   "execution_count": 56,
   "id": "02e0a0c7-bc3c-4e77-9bf5-b58bd448fdca",
   "metadata": {},
   "outputs": [
    {
     "data": {
      "text/html": [
       "<div>\n",
       "<style scoped>\n",
       "    .dataframe tbody tr th:only-of-type {\n",
       "        vertical-align: middle;\n",
       "    }\n",
       "\n",
       "    .dataframe tbody tr th {\n",
       "        vertical-align: top;\n",
       "    }\n",
       "\n",
       "    .dataframe thead th {\n",
       "        text-align: right;\n",
       "    }\n",
       "</style>\n",
       "<table border=\"1\" class=\"dataframe\">\n",
       "  <thead>\n",
       "    <tr style=\"text-align: right;\">\n",
       "      <th>Accident_Severity</th>\n",
       "      <th>Fatal</th>\n",
       "      <th>Serious</th>\n",
       "      <th>Slight</th>\n",
       "    </tr>\n",
       "    <tr>\n",
       "      <th>Road_Surface_Conditions</th>\n",
       "      <th></th>\n",
       "      <th></th>\n",
       "      <th></th>\n",
       "    </tr>\n",
       "  </thead>\n",
       "  <tbody>\n",
       "    <tr>\n",
       "      <th>Dry</th>\n",
       "      <td>5790</td>\n",
       "      <td>61708</td>\n",
       "      <td>381049</td>\n",
       "    </tr>\n",
       "    <tr>\n",
       "      <th>Flood over 3cm. deep</th>\n",
       "      <td>23</td>\n",
       "      <td>152</td>\n",
       "      <td>842</td>\n",
       "    </tr>\n",
       "    <tr>\n",
       "      <th>Frost or ice</th>\n",
       "      <td>193</td>\n",
       "      <td>2007</td>\n",
       "      <td>16317</td>\n",
       "    </tr>\n",
       "    <tr>\n",
       "      <th>Snow</th>\n",
       "      <td>35</td>\n",
       "      <td>565</td>\n",
       "      <td>5290</td>\n",
       "    </tr>\n",
       "    <tr>\n",
       "      <th>Wet or damp</th>\n",
       "      <td>2620</td>\n",
       "      <td>23785</td>\n",
       "      <td>160303</td>\n",
       "    </tr>\n",
       "  </tbody>\n",
       "</table>\n",
       "</div>"
      ],
      "text/plain": [
       "Accident_Severity        Fatal  Serious  Slight\n",
       "Road_Surface_Conditions                        \n",
       "Dry                       5790    61708  381049\n",
       "Flood over 3cm. deep        23      152     842\n",
       "Frost or ice               193     2007   16317\n",
       "Snow                        35      565    5290\n",
       "Wet or damp               2620    23785  160303"
      ]
     },
     "execution_count": 56,
     "metadata": {},
     "output_type": "execute_result"
    }
   ],
   "source": [
    "pd.crosstab(road['Road_Surface_Conditions'], road['Accident_Severity'])"
   ]
  },
  {
   "cell_type": "markdown",
   "id": "c6fccceb-3754-44ac-acee-91496119600f",
   "metadata": {},
   "source": [
    "Analysis: This shows how road surface conditions impact accident severity."
   ]
  },
  {
   "cell_type": "markdown",
   "id": "3d6e77d3-8928-4bbb-a934-b24f453871c0",
   "metadata": {},
   "source": [
    "6. What is the distribution of accident severities?"
   ]
  },
  {
   "cell_type": "code",
   "execution_count": 57,
   "id": "df633f45-cc31-49cb-a986-17eea296e4d1",
   "metadata": {},
   "outputs": [
    {
     "data": {
      "text/plain": [
       "Accident_Severity\n",
       "Slight     563801\n",
       "Serious     88217\n",
       "Fatal        8661\n",
       "Name: count, dtype: int64"
      ]
     },
     "execution_count": 57,
     "metadata": {},
     "output_type": "execute_result"
    }
   ],
   "source": [
    "road['Accident_Severity'].value_counts()"
   ]
  },
  {
   "cell_type": "markdown",
   "id": "03e830da-e538-47ce-86a5-108b6c5b796d",
   "metadata": {},
   "source": [
    "Analysis: This provides the distribution of accident severity levels (Slight, Serious, Fatal)."
   ]
  },
  {
   "cell_type": "markdown",
   "id": "89f5e5cd-b343-43d4-ba94-6806af0ed5d5",
   "metadata": {},
   "source": [
    "7. What is the average number of casualties per accident?"
   ]
  },
  {
   "cell_type": "code",
   "execution_count": 59,
   "id": "dc87bb82-ad7b-4d88-96af-700242fe8871",
   "metadata": {},
   "outputs": [
    {
     "data": {
      "text/plain": [
       "np.float64(1.0)"
      ]
     },
     "execution_count": 59,
     "metadata": {},
     "output_type": "execute_result"
    }
   ],
   "source": [
    "road['Number_of_Casualties'].mean().round()"
   ]
  },
  {
   "cell_type": "markdown",
   "id": "b9df5cce-3a75-4748-b9de-432dee67d30d",
   "metadata": {},
   "source": [
    "Analysis: This shows the average casualties per accident across the dataset."
   ]
  },
  {
   "cell_type": "markdown",
   "id": "7edff80b-fcf2-44d0-a2e6-a29932c43848",
   "metadata": {},
   "source": [
    "8. What is the maximum number of casualties in a single accident?"
   ]
  },
  {
   "cell_type": "code",
   "execution_count": 61,
   "id": "460a7f87-41e5-4fb2-b1fe-bf6b4235e810",
   "metadata": {},
   "outputs": [
    {
     "data": {
      "text/plain": [
       "np.int64(68)"
      ]
     },
     "execution_count": 61,
     "metadata": {},
     "output_type": "execute_result"
    }
   ],
   "source": [
    "road['Number_of_Casualties'].max()"
   ]
  },
  {
   "cell_type": "markdown",
   "id": "ff9a8f4b-a8bd-4004-8122-42524ec6387f",
   "metadata": {},
   "source": [
    "Analysis: This indicates the worst-case accident in terms of casualties."
   ]
  },
  {
   "cell_type": "markdown",
   "id": "98ce829a-fdbe-4205-9c15-6aa5e1195fcf",
   "metadata": {},
   "source": [
    "9. What is the average number of vehicles per accident?"
   ]
  },
  {
   "cell_type": "code",
   "execution_count": 63,
   "id": "131182d3-cc69-4ed3-bd24-714325c0c55e",
   "metadata": {},
   "outputs": [
    {
     "data": {
      "text/plain": [
       "np.float64(2.0)"
      ]
     },
     "execution_count": 63,
     "metadata": {},
     "output_type": "execute_result"
    }
   ],
   "source": [
    "road['Number_of_Vehicles'].mean().round()"
   ]
  },
  {
   "cell_type": "markdown",
   "id": "d4df45f5-f3d3-4ee9-813c-ebb882c31c0d",
   "metadata": {},
   "source": [
    "Analysis: This gives an idea of how many vehicles are typically involved in an accident."
   ]
  },
  {
   "cell_type": "markdown",
   "id": "368471ca-05a0-40b5-8892-555aa5fae22d",
   "metadata": {},
   "source": [
    "10. What is the most common road surface condition during accidents?"
   ]
  },
  {
   "cell_type": "code",
   "execution_count": 64,
   "id": "4ed971fe-4842-49d9-b31b-afb1ac96550f",
   "metadata": {},
   "outputs": [
    {
     "data": {
      "text/plain": [
       "'Dry'"
      ]
     },
     "execution_count": 64,
     "metadata": {},
     "output_type": "execute_result"
    }
   ],
   "source": [
    "road['Road_Surface_Conditions'].value_counts().idxmax()"
   ]
  },
  {
   "cell_type": "markdown",
   "id": "b2fba46a-30f8-417e-b565-25dc2507a394",
   "metadata": {},
   "source": [
    "Analysis: This shows which road surface condition occurs most frequently during accidents."
   ]
  },
  {
   "cell_type": "markdown",
   "id": "9c864d3f-6559-4cdf-97f3-5b87f0ab1d04",
   "metadata": {},
   "source": [
    "11. What is the distribution of accidents by road type?"
   ]
  },
  {
   "cell_type": "code",
   "execution_count": 65,
   "id": "f0d37b7c-428d-4edc-8708-77b852efa418",
   "metadata": {},
   "outputs": [
    {
     "data": {
      "text/plain": [
       "Road_Type\n",
       "Single carriageway    496663\n",
       "Dual carriageway       99424\n",
       "Roundabout             43992\n",
       "One way street         13559\n",
       "Slip road               7041\n",
       "Name: count, dtype: int64"
      ]
     },
     "execution_count": 65,
     "metadata": {},
     "output_type": "execute_result"
    }
   ],
   "source": [
    "road['Road_Type'].value_counts()"
   ]
  },
  {
   "cell_type": "markdown",
   "id": "65e63a1a-0a79-402b-865c-bcd017373b3a",
   "metadata": {},
   "source": [
    "Analysis: This provides insight into which road types experience more accidents."
   ]
  },
  {
   "cell_type": "markdown",
   "id": "6f846dd5-8fab-4f8b-9b30-ea38f568dd06",
   "metadata": {},
   "source": [
    "12. How many accidents occurred in urban vs rural areas?"
   ]
  },
  {
   "cell_type": "code",
   "execution_count": 66,
   "id": "0616cb20-3b63-421c-9d13-ca6923951ed1",
   "metadata": {},
   "outputs": [
    {
     "data": {
      "text/plain": [
       "Urban_or_Rural_Area\n",
       "Urban          421678\n",
       "Rural          238990\n",
       "Unallocated        11\n",
       "Name: count, dtype: int64"
      ]
     },
     "execution_count": 66,
     "metadata": {},
     "output_type": "execute_result"
    }
   ],
   "source": [
    "road['Urban_or_Rural_Area'].value_counts()"
   ]
  },
  {
   "cell_type": "markdown",
   "id": "bcd20b06-a29e-45d5-9a46-9ed2e64c5862",
   "metadata": {},
   "source": [
    "Analysis: This helps compare accident counts in urban vs rural areas."
   ]
  },
  {
   "cell_type": "markdown",
   "id": "d4b89068-4d52-4522-a387-81905b67268a",
   "metadata": {},
   "source": [
    "13.What is the most common weather condition during accidents?"
   ]
  },
  {
   "cell_type": "code",
   "execution_count": 70,
   "id": "1afeaf13-861c-4ed4-96f1-135e223de402",
   "metadata": {},
   "outputs": [
    {
     "data": {
      "text/plain": [
       "'Fine no high winds'"
      ]
     },
     "execution_count": 70,
     "metadata": {},
     "output_type": "execute_result"
    }
   ],
   "source": [
    "road['Weather_Conditions'].value_counts().idxmax()"
   ]
  },
  {
   "cell_type": "markdown",
   "id": "8dbad0f3-9003-479d-bcf8-d407aa987abb",
   "metadata": {},
   "source": [
    "Analysis: This identifies the most frequent weather condition during accidents."
   ]
  },
  {
   "cell_type": "markdown",
   "id": "31dbe91a-6f43-412e-93a3-68f37da13ff0",
   "metadata": {},
   "source": [
    "14. What is the distribution of accidents by light conditions?"
   ]
  },
  {
   "cell_type": "code",
   "execution_count": 71,
   "id": "3fea2760-d545-4a4f-a11b-0abc4778e2bd",
   "metadata": {},
   "outputs": [
    {
     "data": {
      "text/plain": [
       "Light_Conditions\n",
       "Daylight                       484880\n",
       "Darkness - lights lit          129335\n",
       "Darkness - no lighting          37437\n",
       "Darkness - lighting unknown      6484\n",
       "Darkness - lights unlit          2543\n",
       "Name: count, dtype: int64"
      ]
     },
     "execution_count": 71,
     "metadata": {},
     "output_type": "execute_result"
    }
   ],
   "source": [
    "road['Light_Conditions'].value_counts()"
   ]
  },
  {
   "cell_type": "markdown",
   "id": "97384de3-753f-491b-a4b3-e109ec37d132",
   "metadata": {},
   "source": [
    "Analysis: This shows how light conditions (daylight, darkness) affect accident frequency."
   ]
  },
  {
   "cell_type": "markdown",
   "id": "7e183b38-1f85-49f6-a336-82546512c43c",
   "metadata": {},
   "source": [
    "15. What is the most common vehicle type involved in accidents?"
   ]
  },
  {
   "cell_type": "code",
   "execution_count": 72,
   "id": "d1fc498e-59ea-47eb-be26-10b89da7113e",
   "metadata": {},
   "outputs": [
    {
     "data": {
      "text/plain": [
       "'Car'"
      ]
     },
     "execution_count": 72,
     "metadata": {},
     "output_type": "execute_result"
    }
   ],
   "source": [
    "road['Vehicle_Type'].value_counts().idxmax()"
   ]
  },
  {
   "cell_type": "markdown",
   "id": "30329386-80b5-47de-b43b-5c1c3a49158a",
   "metadata": {},
   "source": [
    "Analysis: This shows which type of vehicle is most commonly involved in accidents."
   ]
  },
  {
   "cell_type": "markdown",
   "id": "f906f5ae-9598-4d56-b9af-9625806eb864",
   "metadata": {},
   "source": [
    "16. How many accidents occurred each year?"
   ]
  },
  {
   "cell_type": "code",
   "execution_count": 73,
   "id": "9fbdb8b5-8451-47fb-8c85-9cc1cbef6314",
   "metadata": {},
   "outputs": [
    {
     "data": {
      "text/plain": [
       "Accident Date\n",
       "2019.0    71867\n",
       "2020.0    70163\n",
       "2021.0    66172\n",
       "2022.0    56805\n",
       "Name: count, dtype: int64"
      ]
     },
     "execution_count": 73,
     "metadata": {},
     "output_type": "execute_result"
    }
   ],
   "source": [
    "pd.to_datetime(road['Accident Date'], errors='coerce').dt.year.value_counts().sort_index()"
   ]
  },
  {
   "cell_type": "markdown",
   "id": "e620761e-96f3-4f9d-b5bf-ffb3bb93007b",
   "metadata": {},
   "source": [
    "Analysis: This shows accident trends over different years."
   ]
  },
  {
   "cell_type": "markdown",
   "id": "2f7c2c03-30f2-4b8c-afeb-431f469366c4",
   "metadata": {},
   "source": [
    "17. What is the correlation between number of vehicles and casualties?"
   ]
  },
  {
   "cell_type": "code",
   "execution_count": 75,
   "id": "6461ae3c-8ffd-4bdf-8f18-8bb7573bdbf9",
   "metadata": {},
   "outputs": [
    {
     "data": {
      "text/html": [
       "<div>\n",
       "<style scoped>\n",
       "    .dataframe tbody tr th:only-of-type {\n",
       "        vertical-align: middle;\n",
       "    }\n",
       "\n",
       "    .dataframe tbody tr th {\n",
       "        vertical-align: top;\n",
       "    }\n",
       "\n",
       "    .dataframe thead th {\n",
       "        text-align: right;\n",
       "    }\n",
       "</style>\n",
       "<table border=\"1\" class=\"dataframe\">\n",
       "  <thead>\n",
       "    <tr style=\"text-align: right;\">\n",
       "      <th></th>\n",
       "      <th>Number_of_Vehicles</th>\n",
       "      <th>Number_of_Casualties</th>\n",
       "    </tr>\n",
       "  </thead>\n",
       "  <tbody>\n",
       "    <tr>\n",
       "      <th>Number_of_Vehicles</th>\n",
       "      <td>1.000000</td>\n",
       "      <td>0.228889</td>\n",
       "    </tr>\n",
       "    <tr>\n",
       "      <th>Number_of_Casualties</th>\n",
       "      <td>0.228889</td>\n",
       "      <td>1.000000</td>\n",
       "    </tr>\n",
       "  </tbody>\n",
       "</table>\n",
       "</div>"
      ],
      "text/plain": [
       "                      Number_of_Vehicles  Number_of_Casualties\n",
       "Number_of_Vehicles              1.000000              0.228889\n",
       "Number_of_Casualties            0.228889              1.000000"
      ]
     },
     "execution_count": 75,
     "metadata": {},
     "output_type": "execute_result"
    }
   ],
   "source": [
    "road[['Number_of_Vehicles','Number_of_Casualties']].corr()"
   ]
  },
  {
   "cell_type": "markdown",
   "id": "25e76b7b-e89b-42b6-b1bc-fd69d058de6f",
   "metadata": {},
   "source": [
    "Analysis: This checks if more vehicles involved lead to higher casualties."
   ]
  },
  {
   "cell_type": "markdown",
   "id": "2cbbb99d-1080-4dad-ad70-89e3eb52e498",
   "metadata": {},
   "source": [
    "18. Which district area has the highest number of accidents?"
   ]
  },
  {
   "cell_type": "code",
   "execution_count": 76,
   "id": "f473fec8-ae47-4c15-a642-e1c2e61131b8",
   "metadata": {},
   "outputs": [
    {
     "data": {
      "text/plain": [
       "'Birmingham'"
      ]
     },
     "execution_count": 76,
     "metadata": {},
     "output_type": "execute_result"
    }
   ],
   "source": [
    "road['District Area'].value_counts().idxmax()"
   ]
  },
  {
   "cell_type": "markdown",
   "id": "f0ea49bd-53ee-4c62-8fe3-37a2de6951cf",
   "metadata": {},
   "source": [
    "Analysis: This identifies the district with the most accidents."
   ]
  },
  {
   "cell_type": "markdown",
   "id": "66610ff5-d7dc-4842-acac-fcba26d6ec4d",
   "metadata": {},
   "source": [
    "19. Which district has the highest average casualties per accident?"
   ]
  },
  {
   "cell_type": "code",
   "execution_count": 77,
   "id": "bc73fa0e-1a6e-4cbe-baf7-f95702a4777c",
   "metadata": {},
   "outputs": [
    {
     "data": {
      "text/plain": [
       "'Blaeu Gwent'"
      ]
     },
     "execution_count": 77,
     "metadata": {},
     "output_type": "execute_result"
    }
   ],
   "source": [
    "road.groupby('District Area')['Number_of_Casualties'].mean().idxmax()"
   ]
  },
  {
   "cell_type": "markdown",
   "id": "bd59fd94-64ce-40c6-956b-7df68633ad93",
   "metadata": {},
   "source": [
    "Analysis: This identifies the district with the most severe accidents on average."
   ]
  },
  {
   "cell_type": "markdown",
   "id": "d3274d87-4010-43c8-b7a9-c3300a4b2ad5",
   "metadata": {},
   "source": [
    "20.  What is the proportion of accident severities?"
   ]
  },
  {
   "cell_type": "code",
   "execution_count": 78,
   "id": "49b5ad06-d81f-402a-a205-6eece81d588a",
   "metadata": {},
   "outputs": [
    {
     "data": {
      "text/plain": [
       "Accident_Severity\n",
       "Slight     0.853366\n",
       "Serious    0.133525\n",
       "Fatal      0.013109\n",
       "Name: proportion, dtype: float64"
      ]
     },
     "execution_count": 78,
     "metadata": {},
     "output_type": "execute_result"
    }
   ],
   "source": [
    "road['Accident_Severity'].value_counts(normalize=True)"
   ]
  },
  {
   "cell_type": "markdown",
   "id": "550c9877-733e-461e-b62f-b68d90ce8701",
   "metadata": {},
   "source": [
    "Analysis: This shows the proportion of different accident severities."
   ]
  },
  {
   "cell_type": "code",
   "execution_count": null,
   "id": "218ca536-0583-4f8f-a490-3d569caf1080",
   "metadata": {},
   "outputs": [],
   "source": []
  }
 ],
 "metadata": {
  "kernelspec": {
   "display_name": "Python 3 (ipykernel)",
   "language": "python",
   "name": "python3"
  },
  "language_info": {
   "codemirror_mode": {
    "name": "ipython",
    "version": 3
   },
   "file_extension": ".py",
   "mimetype": "text/x-python",
   "name": "python",
   "nbconvert_exporter": "python",
   "pygments_lexer": "ipython3",
   "version": "3.11.9"
  }
 },
 "nbformat": 4,
 "nbformat_minor": 5
}
